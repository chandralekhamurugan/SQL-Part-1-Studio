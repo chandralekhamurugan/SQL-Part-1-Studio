{
    "metadata": {
        "kernelspec": {
            "name": "SQL",
            "display_name": "SQL",
            "language": "sql"
        },
        "language_info": {
            "name": "sql",
            "version": ""
        },
        "extensions": {
            "azuredatastudio": {
                "version": 1,
                "views": []
            }
        }
    },
    "nbformat_minor": 2,
    "nbformat": 4,
    "cells": [
        {
            "cell_type": "markdown",
            "source": [
                "# SQL Part 1 Studio\n",
                "\n",
                "### Let's practice your SQL quering skills!  For each question, work along in the notebook adding your query and answering the questions. \n",
                "\n",
                "### **DataSet**\n",
                "\n",
                "### <span style=\"font-size: 14px; font-family: -apple-system, BlinkMacSystemFont, sans-serif;\">We will be using the Goodbooks-10k dataset from the exercises in the prep work.&nbsp; Feel free to reference your notebook.</span>\n",
                "\n",
                "- The dataset can be found here: [goodbooks-10k](https://www.kaggle.com/zygmunt/goodbooks-10k)\n",
                "- You can access the **BooksDB** in the Launchcode server.\n",
                "\n",
                "### **Business Issue**\n",
                "\n",
                "You work for a small independant book store and you want to increase sales by running various promotions.  Start by becoming more familar with the BooksDB."
            ],
            "metadata": {
                "azdata_cell_guid": "b9034d8a-b631-48bf-a895-1012a6ffa784"
            }
        },
        {
            "cell_type": "markdown",
            "source": [
                "## Part 1. BooksDB Questions\n",
                "\n",
                "<span style=\"color: rgba(0, 0, 0, 0.87); font-family: -apple-system, system-ui, &quot;Segoe UI&quot;, Helvetica, Arial, sans-serif, &quot;Apple Color Emoji&quot;, &quot;Segoe UI Emoji&quot;, &quot;Segoe UI Symbol&quot;; background-color: rgb(255, 255, 255);\">Question 1:&nbsp; Write a query of the books table, returning the TOP 100 results and&nbsp; includes, book_id, authors, title, average_rating.&nbsp; Use an alias for at least one column and in descending order of rating.&nbsp; What is the number one book?</span>"
            ],
            "metadata": {
                "azdata_cell_guid": "6e55eb1c-4a14-4076-90d2-95ed17a6309f",
                "tags": [
                    "hide_input"
                ]
            },
            "attachments": {}
        },
        {
            "cell_type": "code",
            "source": [
                "-- return top 100 results\n",
                "select top 100 book_id, authors, title, average_rating as avg from books"
            ],
            "metadata": {
                "azdata_cell_guid": "470b0ca4-9a32-4b46-a42e-bbb645101769",
                "tags": [],
                "language": "sql"
            },
            "outputs": [
                {
                    "output_type": "display_data",
                    "data": {
                        "text/html": "(100 rows affected)"
                    },
                    "metadata": {}
                },
                {
                    "output_type": "display_data",
                    "data": {
                        "text/html": "Total execution time: 00:00:00.078"
                    },
                    "metadata": {}
                },
                {
                    "output_type": "execute_result",
                    "metadata": {},
                    "execution_count": 6,
                    "data": {
                        "application/vnd.dataresource+json": {
                            "schema": {
                                "fields": [
                                    {
                                        "name": "book_id"
                                    },
                                    {
                                        "name": "authors"
                                    },
                                    {
                                        "name": "title"
                                    },
                                    {
                                        "name": "avg"
                                    }
                                ]
                            },
                            "data": [
                                {
                                    "0": "2767052",
                                    "1": "Suzanne Collins",
                                    "2": "The Hunger Games (The Hunger Games, #1)",
                                    "3": "4.34"
                                },
                                {
                                    "0": "3",
                                    "1": "J.K. Rowling, Mary GrandPré",
                                    "2": "Harry Potter and the Sorcerer's Stone (Harry Potter, #1)",
                                    "3": "4.44"
                                },
                                {
                                    "0": "41865",
                                    "1": "Stephenie Meyer",
                                    "2": "Twilight (Twilight, #1)",
                                    "3": "3.57"
                                },
                                {
                                    "0": "2657",
                                    "1": "Harper Lee",
                                    "2": "To Kill a Mockingbird",
                                    "3": "4.25"
                                },
                                {
                                    "0": "4671",
                                    "1": "F. Scott Fitzgerald",
                                    "2": "The Great Gatsby",
                                    "3": "3.89"
                                },
                                {
                                    "0": "11870085",
                                    "1": "John Green",
                                    "2": "The Fault in Our Stars",
                                    "3": "4.26"
                                },
                                {
                                    "0": "5907",
                                    "1": "J.R.R. Tolkien",
                                    "2": "The Hobbit",
                                    "3": "4.25"
                                },
                                {
                                    "0": "5107",
                                    "1": "J.D. Salinger",
                                    "2": "The Catcher in the Rye",
                                    "3": "3.79"
                                },
                                {
                                    "0": "960",
                                    "1": "Dan Brown",
                                    "2": "Angels & Demons  (Robert Langdon, #1)",
                                    "3": "3.85"
                                },
                                {
                                    "0": "1885",
                                    "1": "Jane Austen",
                                    "2": "Pride and Prejudice",
                                    "3": "4.24"
                                },
                                {
                                    "0": "77203",
                                    "1": "Khaled Hosseini",
                                    "2": "The Kite Runner",
                                    "3": "4.26"
                                },
                                {
                                    "0": "13335037",
                                    "1": "Veronica Roth",
                                    "2": "Divergent (Divergent, #1)",
                                    "3": "4.24"
                                },
                                {
                                    "0": "5470",
                                    "1": "George Orwell, Erich Fromm, Celâl Üster",
                                    "2": "1984",
                                    "3": "4.14"
                                },
                                {
                                    "0": "7613",
                                    "1": "George Orwell",
                                    "2": "Animal Farm",
                                    "3": "3.87"
                                },
                                {
                                    "0": "48855",
                                    "1": "Anne Frank, Eleanor Roosevelt, B.M. Mooyaart-Doubleday",
                                    "2": "The Diary of a Young Girl",
                                    "3": "4.1"
                                },
                                {
                                    "0": "2429135",
                                    "1": "Stieg Larsson, Reg Keeland",
                                    "2": "The Girl with the Dragon Tattoo (Millennium, #1)",
                                    "3": "4.11"
                                },
                                {
                                    "0": "6148028",
                                    "1": "Suzanne Collins",
                                    "2": "Catching Fire (The Hunger Games, #2)",
                                    "3": "4.3"
                                },
                                {
                                    "0": "5",
                                    "1": "J.K. Rowling, Mary GrandPré, Rufus Beck",
                                    "2": "Harry Potter and the Prisoner of Azkaban (Harry Potter, #3)",
                                    "3": "4.53"
                                },
                                {
                                    "0": "34",
                                    "1": "J.R.R. Tolkien",
                                    "2": "The Fellowship of the Ring (The Lord of the Rings, #1)",
                                    "3": "4.34"
                                },
                                {
                                    "0": "7260188",
                                    "1": "Suzanne Collins",
                                    "2": "Mockingjay (The Hunger Games, #3)",
                                    "3": "4.03"
                                },
                                {
                                    "0": "2",
                                    "1": "J.K. Rowling, Mary GrandPré",
                                    "2": "Harry Potter and the Order of the Phoenix (Harry Potter, #5)",
                                    "3": "4.46"
                                },
                                {
                                    "0": "12232938",
                                    "1": "Alice Sebold",
                                    "2": "The Lovely Bones",
                                    "3": "3.77"
                                },
                                {
                                    "0": "15881",
                                    "1": "J.K. Rowling, Mary GrandPré",
                                    "2": "Harry Potter and the Chamber of Secrets (Harry Potter, #2)",
                                    "3": "4.37"
                                },
                                {
                                    "0": "6",
                                    "1": "J.K. Rowling, Mary GrandPré",
                                    "2": "Harry Potter and the Goblet of Fire (Harry Potter, #4)",
                                    "3": "4.53"
                                },
                                {
                                    "0": "136251",
                                    "1": "J.K. Rowling, Mary GrandPré",
                                    "2": "Harry Potter and the Deathly Hallows (Harry Potter, #7)",
                                    "3": "4.61"
                                },
                                {
                                    "0": "968",
                                    "1": "Dan Brown",
                                    "2": "The Da Vinci Code (Robert Langdon, #2)",
                                    "3": "3.79"
                                },
                                {
                                    "0": "1",
                                    "1": "J.K. Rowling, Mary GrandPré",
                                    "2": "Harry Potter and the Half-Blood Prince (Harry Potter, #6)",
                                    "3": "4.54"
                                },
                                {
                                    "0": "7624",
                                    "1": "William Golding",
                                    "2": "Lord of the Flies",
                                    "3": "3.64"
                                },
                                {
                                    "0": "18135",
                                    "1": "William Shakespeare, Robert           Jackson",
                                    "2": "Romeo and Juliet",
                                    "3": "3.73"
                                },
                                {
                                    "0": "8442457",
                                    "1": "Gillian Flynn",
                                    "2": "Gone Girl",
                                    "3": "4.03"
                                },
                                {
                                    "0": "4667024",
                                    "1": "Kathryn Stockett",
                                    "2": "The Help",
                                    "3": "4.45"
                                },
                                {
                                    "0": "890",
                                    "1": "John Steinbeck",
                                    "2": "Of Mice and Men",
                                    "3": "3.84"
                                },
                                {
                                    "0": "930",
                                    "1": "Arthur Golden",
                                    "2": "Memoirs of a Geisha",
                                    "3": "4.08"
                                },
                                {
                                    "0": "10818853",
                                    "1": "E.L. James",
                                    "2": "Fifty Shades of Grey (Fifty Shades, #1)",
                                    "3": "3.67"
                                },
                                {
                                    "0": "865",
                                    "1": "Paulo Coelho, Alan R. Clarke",
                                    "2": "The Alchemist",
                                    "3": "3.82"
                                },
                                {
                                    "0": "3636",
                                    "1": "Lois Lowry",
                                    "2": "The Giver (The Giver, #1)",
                                    "3": "4.12"
                                },
                                {
                                    "0": "100915",
                                    "1": "C.S. Lewis",
                                    "2": "The Lion, the Witch, and the Wardrobe (Chronicles of Narnia, #1)",
                                    "3": "4.19"
                                },
                                {
                                    "0": "14050",
                                    "1": "Audrey Niffenegger",
                                    "2": "The Time Traveler's Wife",
                                    "3": "3.95"
                                },
                                {
                                    "0": "13496",
                                    "1": "George R.R. Martin",
                                    "2": "A Game of Thrones (A Song of Ice and Fire, #1)",
                                    "3": "4.45"
                                },
                                {
                                    "0": "19501",
                                    "1": "Elizabeth Gilbert",
                                    "2": "Eat, Pray, Love",
                                    "3": "3.51"
                                },
                                {
                                    "0": "28187",
                                    "1": "Rick Riordan",
                                    "2": "The Lightning Thief (Percy Jackson and the Olympians, #1)",
                                    "3": "4.23"
                                },
                                {
                                    "0": "1934",
                                    "1": "Louisa May Alcott",
                                    "2": "Little Women (Little Women, #1)",
                                    "3": "4.04"
                                },
                                {
                                    "0": "10210",
                                    "1": "Charlotte Brontë, Michael Mason",
                                    "2": "Jane Eyre",
                                    "3": "4.1"
                                },
                                {
                                    "0": "15931",
                                    "1": "Nicholas Sparks",
                                    "2": "The Notebook (The Notebook, #1)",
                                    "3": "4.06"
                                },
                                {
                                    "0": "4214",
                                    "1": "Yann Martel",
                                    "2": "Life of Pi",
                                    "3": "3.88"
                                },
                                {
                                    "0": "43641",
                                    "1": "Sara Gruen",
                                    "2": "Water for Elephants",
                                    "3": "4.07"
                                },
                                {
                                    "0": "19063",
                                    "1": "Markus Zusak",
                                    "2": "The Book Thief",
                                    "3": "4.36"
                                },
                                {
                                    "0": "4381",
                                    "1": "Ray Bradbury",
                                    "2": "Fahrenheit 451",
                                    "3": "3.97"
                                },
                                {
                                    "0": "49041",
                                    "1": "Stephenie Meyer",
                                    "2": "New Moon (Twilight, #2)",
                                    "3": "3.52"
                                },
                                {
                                    "0": "30119",
                                    "1": "Shel Silverstein",
                                    "2": "Where the Sidewalk Ends",
                                    "3": "4.29"
                                },
                                {
                                    "0": "256683",
                                    "1": "Cassandra Clare",
                                    "2": "City of Bones (The Mortal Instruments, #1)",
                                    "3": "4.12"
                                },
                                {
                                    "0": "428263",
                                    "1": "Stephenie Meyer",
                                    "2": "Eclipse (Twilight, #3)",
                                    "3": "3.69"
                                },
                                {
                                    "0": "113436",
                                    "1": "Christopher Paolini",
                                    "2": "Eragon (The Inheritance Cycle, #1)",
                                    "3": "3.86"
                                },
                                {
                                    "0": "11",
                                    "1": "Douglas Adams",
                                    "2": "The Hitchhiker's Guide to the Galaxy (Hitchhiker's Guide to the Galaxy, #1)",
                                    "3": "4.2"
                                },
                                {
                                    "0": "5129",
                                    "1": "Aldous Huxley",
                                    "2": "Brave New World",
                                    "3": "3.97"
                                },
                                {
                                    "0": "1162543",
                                    "1": "Stephenie Meyer",
                                    "2": "Breaking Dawn (Twilight, #4)",
                                    "3": "3.7"
                                },
                                {
                                    "0": "37435",
                                    "1": "Sue Monk Kidd",
                                    "2": "The Secret Life of Bees",
                                    "3": "4.01"
                                },
                                {
                                    "0": "2956",
                                    "1": "Mark Twain, John Seelye, Guy Cardwell",
                                    "2": "The Adventures of Huckleberry Finn",
                                    "3": "3.8"
                                },
                                {
                                    "0": "24178",
                                    "1": "E.B. White, Garth Williams, Rosemary Wells",
                                    "2": "Charlotte's Web",
                                    "3": "4.15"
                                },
                                {
                                    "0": "1618",
                                    "1": "Mark Haddon",
                                    "2": "The Curious Incident of the Dog in the Night-Time",
                                    "3": "3.85"
                                },
                                {
                                    "0": "22557272",
                                    "1": "Paula Hawkins",
                                    "2": "The Girl on the Train",
                                    "3": "3.88"
                                },
                                {
                                    "0": "119322",
                                    "1": "Philip Pullman",
                                    "2": "The Golden Compass (His Dark Materials, #1)",
                                    "3": "3.94"
                                },
                                {
                                    "0": "16068905",
                                    "1": "Rainbow Rowell",
                                    "2": "Fangirl",
                                    "3": "4.12"
                                },
                                {
                                    "0": "6185",
                                    "1": "Emily Brontë, Richard J. Dunn",
                                    "2": "Wuthering Heights",
                                    "3": "3.82"
                                },
                                {
                                    "0": "10917",
                                    "1": "Jodi Picoult",
                                    "2": "My Sister's Keeper",
                                    "3": "4.06"
                                },
                                {
                                    "0": "4981",
                                    "1": "Kurt Vonnegut Jr.",
                                    "2": "Slaughterhouse-Five",
                                    "3": "4.06"
                                },
                                {
                                    "0": "18405",
                                    "1": "Margaret Mitchell",
                                    "2": "Gone with the Wind",
                                    "3": "4.28"
                                },
                                {
                                    "0": "128029",
                                    "1": "Khaled Hosseini",
                                    "2": "A Thousand Splendid Suns",
                                    "3": "4.34"
                                },
                                {
                                    "0": "22628",
                                    "1": "Stephen Chbosky",
                                    "2": "The Perks of Being a Wallflower",
                                    "3": "4.21"
                                },
                                {
                                    "0": "11735983",
                                    "1": "Veronica Roth",
                                    "2": "Insurgent (Divergent, #2)",
                                    "3": "4.07"
                                },
                                {
                                    "0": "375802",
                                    "1": "Orson Scott Card",
                                    "2": "Ender's Game (Ender's Saga, #1)",
                                    "3": "4.3"
                                },
                                {
                                    "0": "18490",
                                    "1": "Mary Wollstonecraft Shelley, Percy Bysshe Shelley, Maurice Hindle",
                                    "2": "Frankenstein",
                                    "3": "3.75"
                                },
                                {
                                    "0": "11588",
                                    "1": "Stephen King",
                                    "2": "The Shining (The Shining #1)",
                                    "3": "4.17"
                                },
                                {
                                    "0": "1656001",
                                    "1": "Stephenie Meyer",
                                    "2": "The Host (The Host, #1)",
                                    "3": "3.84"
                                },
                                {
                                    "0": "99561",
                                    "1": "John Green",
                                    "2": "Looking for Alaska",
                                    "3": "4.09"
                                },
                                {
                                    "0": "227443",
                                    "1": "Helen Fielding",
                                    "2": "Bridget Jones's Diary (Bridget Jones, #1)",
                                    "3": "3.75"
                                },
                                {
                                    "0": "14935",
                                    "1": "Jane Austen, Tony Tanner, Ros Ballaster",
                                    "2": "Sense and Sensibility",
                                    "3": "4.06"
                                },
                                {
                                    "0": "38709",
                                    "1": "Louis Sachar, Louis Sachar",
                                    "2": "Holes (Holes, #1)",
                                    "3": "3.93"
                                },
                                {
                                    "0": "23966",
                                    "1": "Irvine Welsh",
                                    "2": "Filth",
                                    "3": "3.76"
                                },
                                {
                                    "0": "5139",
                                    "1": "Lauren Weisberger",
                                    "2": "The Devil Wears Prada (The Devil Wears Prada, #1)",
                                    "3": "3.7"
                                },
                                {
                                    "0": "1381",
                                    "1": "Homer, Robert Fagles, E.V. Rieu, Frédéric Mugler, Bernard Knox",
                                    "2": "The Odyssey",
                                    "3": "3.73"
                                },
                                {
                                    "0": "157993",
                                    "1": "Antoine de Saint-Exupéry, Richard Howard, Dom Marcos Barbosa, Melina Karakosta",
                                    "2": "The Little Prince",
                                    "3": "4.28"
                                },
                                {
                                    "0": "7445",
                                    "1": "Jeannette Walls",
                                    "2": "The Glass Castle",
                                    "3": "4.24"
                                },
                                {
                                    "0": "1845",
                                    "1": "Jon Krakauer",
                                    "2": "Into the Wild",
                                    "3": "3.94"
                                },
                                {
                                    "0": "1953",
                                    "1": "Charles Dickens, Richard Maxwell, Hablot Knight Browne",
                                    "2": "A Tale of Two Cities",
                                    "3": "3.81"
                                },
                                {
                                    "0": "7677",
                                    "1": "Michael Crichton",
                                    "2": "Jurassic Park (Jurassic Park, #1)",
                                    "3": "3.96"
                                },
                                {
                                    "0": "370493",
                                    "1": "Shel Silverstein",
                                    "2": "The Giving Tree",
                                    "3": "4.38"
                                },
                                {
                                    "0": "32542",
                                    "1": "John Grisham",
                                    "2": "A Time to Kill",
                                    "3": "4.03"
                                },
                                {
                                    "0": "1617",
                                    "1": "Elie Wiesel, Marion Wiesel",
                                    "2": "Night (The Night Trilogy #1)",
                                    "3": "4.3"
                                },
                                {
                                    "0": "6442769",
                                    "1": "John Green",
                                    "2": "Paper Towns",
                                    "3": "3.88"
                                },
                                {
                                    "0": "21787",
                                    "1": "William Goldman",
                                    "2": "The Princess Bride ",
                                    "3": "4.25"
                                },
                                {
                                    "0": "231804",
                                    "1": "S.E. Hinton",
                                    "2": "The Outsiders",
                                    "3": "4.06"
                                },
                                {
                                    "0": "6186357",
                                    "1": "James Dashner",
                                    "2": "The Maze Runner (Maze Runner, #1)",
                                    "3": "4.02"
                                },
                                {
                                    "0": "1202",
                                    "1": "Steven D. Levitt, Stephen J. Dubner",
                                    "2": "Freakonomics: A Rogue Economist Explores the Hidden Side of Everything (Freakonomics, #1)",
                                    "3": "3.93"
                                },
                                {
                                    "0": "2998",
                                    "1": "Frances Hodgson Burnett",
                                    "2": "The Secret Garden",
                                    "3": "4.12"
                                },
                                {
                                    "0": "320",
                                    "1": "Gabriel García Márquez, Gregory Rabassa",
                                    "2": "One Hundred Years of Solitude",
                                    "3": "4.04"
                                },
                                {
                                    "0": "5297",
                                    "1": "Oscar Wilde, Jeffrey Eugenides",
                                    "2": "The Picture of Dorian Gray",
                                    "3": "4.06"
                                },
                                {
                                    "0": "13536860",
                                    "1": "E.L. James",
                                    "2": "Fifty Shades Freed (Fifty Shades, #3)",
                                    "3": "3.88"
                                },
                                {
                                    "0": "17245",
                                    "1": "Bram Stoker, Nina Auerbach, David J. Skal",
                                    "2": "Dracula",
                                    "3": "3.98"
                                },
                                {
                                    "0": "5060378",
                                    "1": "Stieg Larsson, Reg Keeland",
                                    "2": "The Girl Who Played with Fire (Millennium, #2)",
                                    "3": "4.22"
                                }
                            ]
                        },
                        "text/html": [
                            "<table>",
                            "<tr><th>book_id</th><th>authors</th><th>title</th><th>avg</th></tr>",
                            "<tr><td>2767052</td><td>Suzanne Collins</td><td>The Hunger Games (The Hunger Games, #1)</td><td>4.34</td></tr>",
                            "<tr><td>3</td><td>J.K. Rowling, Mary GrandPré</td><td>Harry Potter and the Sorcerer's Stone (Harry Potter, #1)</td><td>4.44</td></tr>",
                            "<tr><td>41865</td><td>Stephenie Meyer</td><td>Twilight (Twilight, #1)</td><td>3.57</td></tr>",
                            "<tr><td>2657</td><td>Harper Lee</td><td>To Kill a Mockingbird</td><td>4.25</td></tr>",
                            "<tr><td>4671</td><td>F. Scott Fitzgerald</td><td>The Great Gatsby</td><td>3.89</td></tr>",
                            "<tr><td>11870085</td><td>John Green</td><td>The Fault in Our Stars</td><td>4.26</td></tr>",
                            "<tr><td>5907</td><td>J.R.R. Tolkien</td><td>The Hobbit</td><td>4.25</td></tr>",
                            "<tr><td>5107</td><td>J.D. Salinger</td><td>The Catcher in the Rye</td><td>3.79</td></tr>",
                            "<tr><td>960</td><td>Dan Brown</td><td>Angels &amp; Demons  (Robert Langdon, #1)</td><td>3.85</td></tr>",
                            "<tr><td>1885</td><td>Jane Austen</td><td>Pride and Prejudice</td><td>4.24</td></tr>",
                            "<tr><td>77203</td><td>Khaled Hosseini</td><td>The Kite Runner</td><td>4.26</td></tr>",
                            "<tr><td>13335037</td><td>Veronica Roth</td><td>Divergent (Divergent, #1)</td><td>4.24</td></tr>",
                            "<tr><td>5470</td><td>George Orwell, Erich Fromm, Celâl Üster</td><td>1984</td><td>4.14</td></tr>",
                            "<tr><td>7613</td><td>George Orwell</td><td>Animal Farm</td><td>3.87</td></tr>",
                            "<tr><td>48855</td><td>Anne Frank, Eleanor Roosevelt, B.M. Mooyaart-Doubleday</td><td>The Diary of a Young Girl</td><td>4.1</td></tr>",
                            "<tr><td>2429135</td><td>Stieg Larsson, Reg Keeland</td><td>The Girl with the Dragon Tattoo (Millennium, #1)</td><td>4.11</td></tr>",
                            "<tr><td>6148028</td><td>Suzanne Collins</td><td>Catching Fire (The Hunger Games, #2)</td><td>4.3</td></tr>",
                            "<tr><td>5</td><td>J.K. Rowling, Mary GrandPré, Rufus Beck</td><td>Harry Potter and the Prisoner of Azkaban (Harry Potter, #3)</td><td>4.53</td></tr>",
                            "<tr><td>34</td><td>J.R.R. Tolkien</td><td>The Fellowship of the Ring (The Lord of the Rings, #1)</td><td>4.34</td></tr>",
                            "<tr><td>7260188</td><td>Suzanne Collins</td><td>Mockingjay (The Hunger Games, #3)</td><td>4.03</td></tr>",
                            "<tr><td>2</td><td>J.K. Rowling, Mary GrandPré</td><td>Harry Potter and the Order of the Phoenix (Harry Potter, #5)</td><td>4.46</td></tr>",
                            "<tr><td>12232938</td><td>Alice Sebold</td><td>The Lovely Bones</td><td>3.77</td></tr>",
                            "<tr><td>15881</td><td>J.K. Rowling, Mary GrandPré</td><td>Harry Potter and the Chamber of Secrets (Harry Potter, #2)</td><td>4.37</td></tr>",
                            "<tr><td>6</td><td>J.K. Rowling, Mary GrandPré</td><td>Harry Potter and the Goblet of Fire (Harry Potter, #4)</td><td>4.53</td></tr>",
                            "<tr><td>136251</td><td>J.K. Rowling, Mary GrandPré</td><td>Harry Potter and the Deathly Hallows (Harry Potter, #7)</td><td>4.61</td></tr>",
                            "<tr><td>968</td><td>Dan Brown</td><td>The Da Vinci Code (Robert Langdon, #2)</td><td>3.79</td></tr>",
                            "<tr><td>1</td><td>J.K. Rowling, Mary GrandPré</td><td>Harry Potter and the Half-Blood Prince (Harry Potter, #6)</td><td>4.54</td></tr>",
                            "<tr><td>7624</td><td>William Golding</td><td>Lord of the Flies</td><td>3.64</td></tr>",
                            "<tr><td>18135</td><td>William Shakespeare, Robert           Jackson</td><td>Romeo and Juliet</td><td>3.73</td></tr>",
                            "<tr><td>8442457</td><td>Gillian Flynn</td><td>Gone Girl</td><td>4.03</td></tr>",
                            "<tr><td>4667024</td><td>Kathryn Stockett</td><td>The Help</td><td>4.45</td></tr>",
                            "<tr><td>890</td><td>John Steinbeck</td><td>Of Mice and Men</td><td>3.84</td></tr>",
                            "<tr><td>930</td><td>Arthur Golden</td><td>Memoirs of a Geisha</td><td>4.08</td></tr>",
                            "<tr><td>10818853</td><td>E.L. James</td><td>Fifty Shades of Grey (Fifty Shades, #1)</td><td>3.67</td></tr>",
                            "<tr><td>865</td><td>Paulo Coelho, Alan R. Clarke</td><td>The Alchemist</td><td>3.82</td></tr>",
                            "<tr><td>3636</td><td>Lois Lowry</td><td>The Giver (The Giver, #1)</td><td>4.12</td></tr>",
                            "<tr><td>100915</td><td>C.S. Lewis</td><td>The Lion, the Witch, and the Wardrobe (Chronicles of Narnia, #1)</td><td>4.19</td></tr>",
                            "<tr><td>14050</td><td>Audrey Niffenegger</td><td>The Time Traveler's Wife</td><td>3.95</td></tr>",
                            "<tr><td>13496</td><td>George R.R. Martin</td><td>A Game of Thrones (A Song of Ice and Fire, #1)</td><td>4.45</td></tr>",
                            "<tr><td>19501</td><td>Elizabeth Gilbert</td><td>Eat, Pray, Love</td><td>3.51</td></tr>",
                            "<tr><td>28187</td><td>Rick Riordan</td><td>The Lightning Thief (Percy Jackson and the Olympians, #1)</td><td>4.23</td></tr>",
                            "<tr><td>1934</td><td>Louisa May Alcott</td><td>Little Women (Little Women, #1)</td><td>4.04</td></tr>",
                            "<tr><td>10210</td><td>Charlotte Brontë, Michael Mason</td><td>Jane Eyre</td><td>4.1</td></tr>",
                            "<tr><td>15931</td><td>Nicholas Sparks</td><td>The Notebook (The Notebook, #1)</td><td>4.06</td></tr>",
                            "<tr><td>4214</td><td>Yann Martel</td><td>Life of Pi</td><td>3.88</td></tr>",
                            "<tr><td>43641</td><td>Sara Gruen</td><td>Water for Elephants</td><td>4.07</td></tr>",
                            "<tr><td>19063</td><td>Markus Zusak</td><td>The Book Thief</td><td>4.36</td></tr>",
                            "<tr><td>4381</td><td>Ray Bradbury</td><td>Fahrenheit 451</td><td>3.97</td></tr>",
                            "<tr><td>49041</td><td>Stephenie Meyer</td><td>New Moon (Twilight, #2)</td><td>3.52</td></tr>",
                            "<tr><td>30119</td><td>Shel Silverstein</td><td>Where the Sidewalk Ends</td><td>4.29</td></tr>",
                            "<tr><td>256683</td><td>Cassandra Clare</td><td>City of Bones (The Mortal Instruments, #1)</td><td>4.12</td></tr>",
                            "<tr><td>428263</td><td>Stephenie Meyer</td><td>Eclipse (Twilight, #3)</td><td>3.69</td></tr>",
                            "<tr><td>113436</td><td>Christopher Paolini</td><td>Eragon (The Inheritance Cycle, #1)</td><td>3.86</td></tr>",
                            "<tr><td>11</td><td>Douglas Adams</td><td>The Hitchhiker's Guide to the Galaxy (Hitchhiker's Guide to the Galaxy, #1)</td><td>4.2</td></tr>",
                            "<tr><td>5129</td><td>Aldous Huxley</td><td>Brave New World</td><td>3.97</td></tr>",
                            "<tr><td>1162543</td><td>Stephenie Meyer</td><td>Breaking Dawn (Twilight, #4)</td><td>3.7</td></tr>",
                            "<tr><td>37435</td><td>Sue Monk Kidd</td><td>The Secret Life of Bees</td><td>4.01</td></tr>",
                            "<tr><td>2956</td><td>Mark Twain, John Seelye, Guy Cardwell</td><td>The Adventures of Huckleberry Finn</td><td>3.8</td></tr>",
                            "<tr><td>24178</td><td>E.B. White, Garth Williams, Rosemary Wells</td><td>Charlotte's Web</td><td>4.15</td></tr>",
                            "<tr><td>1618</td><td>Mark Haddon</td><td>The Curious Incident of the Dog in the Night-Time</td><td>3.85</td></tr>",
                            "<tr><td>22557272</td><td>Paula Hawkins</td><td>The Girl on the Train</td><td>3.88</td></tr>",
                            "<tr><td>119322</td><td>Philip Pullman</td><td>The Golden Compass (His Dark Materials, #1)</td><td>3.94</td></tr>",
                            "<tr><td>16068905</td><td>Rainbow Rowell</td><td>Fangirl</td><td>4.12</td></tr>",
                            "<tr><td>6185</td><td>Emily Brontë, Richard J. Dunn</td><td>Wuthering Heights</td><td>3.82</td></tr>",
                            "<tr><td>10917</td><td>Jodi Picoult</td><td>My Sister's Keeper</td><td>4.06</td></tr>",
                            "<tr><td>4981</td><td>Kurt Vonnegut Jr.</td><td>Slaughterhouse-Five</td><td>4.06</td></tr>",
                            "<tr><td>18405</td><td>Margaret Mitchell</td><td>Gone with the Wind</td><td>4.28</td></tr>",
                            "<tr><td>128029</td><td>Khaled Hosseini</td><td>A Thousand Splendid Suns</td><td>4.34</td></tr>",
                            "<tr><td>22628</td><td>Stephen Chbosky</td><td>The Perks of Being a Wallflower</td><td>4.21</td></tr>",
                            "<tr><td>11735983</td><td>Veronica Roth</td><td>Insurgent (Divergent, #2)</td><td>4.07</td></tr>",
                            "<tr><td>375802</td><td>Orson Scott Card</td><td>Ender's Game (Ender's Saga, #1)</td><td>4.3</td></tr>",
                            "<tr><td>18490</td><td>Mary Wollstonecraft Shelley, Percy Bysshe Shelley, Maurice Hindle</td><td>Frankenstein</td><td>3.75</td></tr>",
                            "<tr><td>11588</td><td>Stephen King</td><td>The Shining (The Shining #1)</td><td>4.17</td></tr>",
                            "<tr><td>1656001</td><td>Stephenie Meyer</td><td>The Host (The Host, #1)</td><td>3.84</td></tr>",
                            "<tr><td>99561</td><td>John Green</td><td>Looking for Alaska</td><td>4.09</td></tr>",
                            "<tr><td>227443</td><td>Helen Fielding</td><td>Bridget Jones's Diary (Bridget Jones, #1)</td><td>3.75</td></tr>",
                            "<tr><td>14935</td><td>Jane Austen, Tony Tanner, Ros Ballaster</td><td>Sense and Sensibility</td><td>4.06</td></tr>",
                            "<tr><td>38709</td><td>Louis Sachar, Louis Sachar</td><td>Holes (Holes, #1)</td><td>3.93</td></tr>",
                            "<tr><td>23966</td><td>Irvine Welsh</td><td>Filth</td><td>3.76</td></tr>",
                            "<tr><td>5139</td><td>Lauren Weisberger</td><td>The Devil Wears Prada (The Devil Wears Prada, #1)</td><td>3.7</td></tr>",
                            "<tr><td>1381</td><td>Homer, Robert Fagles, E.V. Rieu, Frédéric Mugler, Bernard Knox</td><td>The Odyssey</td><td>3.73</td></tr>",
                            "<tr><td>157993</td><td>Antoine de Saint-Exupéry, Richard Howard, Dom Marcos Barbosa, Melina Karakosta</td><td>The Little Prince</td><td>4.28</td></tr>",
                            "<tr><td>7445</td><td>Jeannette Walls</td><td>The Glass Castle</td><td>4.24</td></tr>",
                            "<tr><td>1845</td><td>Jon Krakauer</td><td>Into the Wild</td><td>3.94</td></tr>",
                            "<tr><td>1953</td><td>Charles Dickens, Richard Maxwell, Hablot Knight Browne</td><td>A Tale of Two Cities</td><td>3.81</td></tr>",
                            "<tr><td>7677</td><td>Michael Crichton</td><td>Jurassic Park (Jurassic Park, #1)</td><td>3.96</td></tr>",
                            "<tr><td>370493</td><td>Shel Silverstein</td><td>The Giving Tree</td><td>4.38</td></tr>",
                            "<tr><td>32542</td><td>John Grisham</td><td>A Time to Kill</td><td>4.03</td></tr>",
                            "<tr><td>1617</td><td>Elie Wiesel, Marion Wiesel</td><td>Night (The Night Trilogy #1)</td><td>4.3</td></tr>",
                            "<tr><td>6442769</td><td>John Green</td><td>Paper Towns</td><td>3.88</td></tr>",
                            "<tr><td>21787</td><td>William Goldman</td><td>The Princess Bride </td><td>4.25</td></tr>",
                            "<tr><td>231804</td><td>S.E. Hinton</td><td>The Outsiders</td><td>4.06</td></tr>",
                            "<tr><td>6186357</td><td>James Dashner</td><td>The Maze Runner (Maze Runner, #1)</td><td>4.02</td></tr>",
                            "<tr><td>1202</td><td>Steven D. Levitt, Stephen J. Dubner</td><td>Freakonomics: A Rogue Economist Explores the Hidden Side of Everything (Freakonomics, #1)</td><td>3.93</td></tr>",
                            "<tr><td>2998</td><td>Frances Hodgson Burnett</td><td>The Secret Garden</td><td>4.12</td></tr>",
                            "<tr><td>320</td><td>Gabriel García Márquez, Gregory Rabassa</td><td>One Hundred Years of Solitude</td><td>4.04</td></tr>",
                            "<tr><td>5297</td><td>Oscar Wilde, Jeffrey Eugenides</td><td>The Picture of Dorian Gray</td><td>4.06</td></tr>",
                            "<tr><td>13536860</td><td>E.L. James</td><td>Fifty Shades Freed (Fifty Shades, #3)</td><td>3.88</td></tr>",
                            "<tr><td>17245</td><td>Bram Stoker, Nina Auerbach, David J. Skal</td><td>Dracula</td><td>3.98</td></tr>",
                            "<tr><td>5060378</td><td>Stieg Larsson, Reg Keeland</td><td>The Girl Who Played with Fire (Millennium, #2)</td><td>4.22</td></tr>",
                            "</table>"
                        ]
                    }
                }
            ],
            "execution_count": 6
        },
        {
            "cell_type": "markdown",
            "source": [
                "Question 2: Write a query to find the least popular book."
            ],
            "metadata": {
                "azdata_cell_guid": "777429b8-8622-489d-9c49-e2acecd7f17e"
            },
            "attachments": {}
        },
        {
            "cell_type": "code",
            "source": [
                "-- return least popular book\n",
                "select top 10 book_id from books\n",
                "order by average_rating\n",
                ""
            ],
            "metadata": {
                "azdata_cell_guid": "c78a1779-db74-470f-a60a-7c72a43d774b",
                "language": "sql"
            },
            "outputs": [
                {
                    "output_type": "display_data",
                    "data": {
                        "text/html": "(10 rows affected)"
                    },
                    "metadata": {}
                },
                {
                    "output_type": "display_data",
                    "data": {
                        "text/html": "Total execution time: 00:00:00.049"
                    },
                    "metadata": {}
                },
                {
                    "output_type": "execute_result",
                    "metadata": {},
                    "execution_count": 16,
                    "data": {
                        "application/vnd.dataresource+json": {
                            "schema": {
                                "fields": [
                                    {
                                        "name": "book_id"
                                    }
                                ]
                            },
                            "data": [
                                {
                                    "0": "105578"
                                },
                                {
                                    "0": "783291"
                                },
                                {
                                    "0": "8664368"
                                },
                                {
                                    "0": "6613"
                                },
                                {
                                    "0": "24929"
                                },
                                {
                                    "0": "16130307"
                                },
                                {
                                    "0": "23503361"
                                },
                                {
                                    "0": "6855294"
                                },
                                {
                                    "0": "3648"
                                },
                                {
                                    "0": "12878667"
                                }
                            ]
                        },
                        "text/html": [
                            "<table>",
                            "<tr><th>book_id</th></tr>",
                            "<tr><td>105578</td></tr>",
                            "<tr><td>783291</td></tr>",
                            "<tr><td>8664368</td></tr>",
                            "<tr><td>6613</td></tr>",
                            "<tr><td>24929</td></tr>",
                            "<tr><td>16130307</td></tr>",
                            "<tr><td>23503361</td></tr>",
                            "<tr><td>6855294</td></tr>",
                            "<tr><td>3648</td></tr>",
                            "<tr><td>12878667</td></tr>",
                            "</table>"
                        ]
                    }
                }
            ],
            "execution_count": 16
        },
        {
            "cell_type": "markdown",
            "source": [
                "Question 3: Which tag is the most popular?"
            ],
            "metadata": {
                "azdata_cell_guid": "a370909d-5d64-49e2-8fec-5220730c8ca7"
            },
            "attachments": {}
        },
        {
            "cell_type": "code",
            "source": [
                "-- return most popular tag\n",
                "select top 5 goodreads_book_id, tag_id, count from book_tags\n",
                "order by count desc;"
            ],
            "metadata": {
                "azdata_cell_guid": "9e0451dc-c4d3-4775-9eb1-904854f459ff",
                "tags": [],
                "language": "sql"
            },
            "outputs": [
                {
                    "output_type": "display_data",
                    "data": {
                        "text/html": "(5 rows affected)"
                    },
                    "metadata": {}
                },
                {
                    "output_type": "display_data",
                    "data": {
                        "text/html": "Total execution time: 00:00:00.297"
                    },
                    "metadata": {}
                },
                {
                    "output_type": "execute_result",
                    "metadata": {},
                    "execution_count": 11,
                    "data": {
                        "application/vnd.dataresource+json": {
                            "schema": {
                                "fields": [
                                    {
                                        "name": "goodreads_book_id"
                                    },
                                    {
                                        "name": "tag_id"
                                    },
                                    {
                                        "name": "count"
                                    }
                                ]
                            },
                            "data": [
                                {
                                    "0": "865",
                                    "1": "30574",
                                    "2": "596234"
                                },
                                {
                                    "0": "2429135",
                                    "1": "30574",
                                    "2": "586235"
                                },
                                {
                                    "0": "18143977",
                                    "1": "30574",
                                    "2": "505884"
                                },
                                {
                                    "0": "3",
                                    "1": "30574",
                                    "2": "496107"
                                },
                                {
                                    "0": "24280",
                                    "1": "30574",
                                    "2": "488469"
                                }
                            ]
                        },
                        "text/html": [
                            "<table>",
                            "<tr><th>goodreads_book_id</th><th>tag_id</th><th>count</th></tr>",
                            "<tr><td>865</td><td>30574</td><td>596234</td></tr>",
                            "<tr><td>2429135</td><td>30574</td><td>586235</td></tr>",
                            "<tr><td>18143977</td><td>30574</td><td>505884</td></tr>",
                            "<tr><td>3</td><td>30574</td><td>496107</td></tr>",
                            "<tr><td>24280</td><td>30574</td><td>488469</td></tr>",
                            "</table>"
                        ]
                    }
                }
            ],
            "execution_count": 11
        },
        {
            "cell_type": "markdown",
            "source": [
                "Question 4: What is the name of the most popular tag?"
            ],
            "metadata": {
                "azdata_cell_guid": "3cdfa7e6-c5a6-49fb-aa27-afeece881627"
            },
            "attachments": {}
        },
        {
            "cell_type": "code",
            "source": [
                "-- return name of most popular tag\n",
                "select  tag_name from tags\n",
                "where tag_id = 30754\n",
                "\n",
                ""
            ],
            "metadata": {
                "azdata_cell_guid": "3cd3a3ec-4ce2-49b6-b714-44179eed00e1",
                "language": "sql",
                "tags": []
            },
            "outputs": [
                {
                    "output_type": "display_data",
                    "data": {
                        "text/html": "(1 row affected)"
                    },
                    "metadata": {}
                },
                {
                    "output_type": "display_data",
                    "data": {
                        "text/html": "Total execution time: 00:00:00.045"
                    },
                    "metadata": {}
                },
                {
                    "output_type": "execute_result",
                    "metadata": {},
                    "execution_count": 15,
                    "data": {
                        "application/vnd.dataresource+json": {
                            "schema": {
                                "fields": [
                                    {
                                        "name": "tag_name"
                                    }
                                ]
                            },
                            "data": [
                                {
                                    "0": "to-read-non-fic"
                                }
                            ]
                        },
                        "text/html": [
                            "<table>",
                            "<tr><th>tag_name</th></tr>",
                            "<tr><td>to-read-non-fic</td></tr>",
                            "</table>"
                        ]
                    }
                }
            ],
            "execution_count": 15
        },
        {
            "cell_type": "markdown",
            "source": [
                "Question 5: How many books where released in the first decade of 2000?"
            ],
            "metadata": {
                "azdata_cell_guid": "b3962545-c0c2-47ca-a3c4-299c2c0a4b0c"
            },
            "attachments": {}
        },
        {
            "cell_type": "code",
            "source": [
                "-- return number of books published in the first decade of 2000\n",
                "select count(title)  as No_Of_Books_published from books\n",
                "where original_publication_year between 2000 and 2010"
            ],
            "metadata": {
                "azdata_cell_guid": "8dcd65e9-1b3e-4cf8-b726-26729a1225f2",
                "language": "sql",
                "tags": []
            },
            "outputs": [
                {
                    "output_type": "display_data",
                    "data": {
                        "text/html": "(1 row affected)"
                    },
                    "metadata": {}
                },
                {
                    "output_type": "display_data",
                    "data": {
                        "text/html": "Total execution time: 00:00:00.042"
                    },
                    "metadata": {}
                },
                {
                    "output_type": "execute_result",
                    "metadata": {},
                    "execution_count": 23,
                    "data": {
                        "application/vnd.dataresource+json": {
                            "schema": {
                                "fields": [
                                    {
                                        "name": "No_Of_Books_published"
                                    }
                                ]
                            },
                            "data": [
                                {
                                    "0": "3594"
                                }
                            ]
                        },
                        "text/html": [
                            "<table>",
                            "<tr><th>No_Of_Books_published</th></tr>",
                            "<tr><td>3594</td></tr>",
                            "</table>"
                        ]
                    }
                }
            ],
            "execution_count": 23
        },
        {
            "cell_type": "markdown",
            "source": [
                "Question 6: How many book titles contain the word Happy?"
            ],
            "metadata": {
                "azdata_cell_guid": "5080d6de-2775-4055-97ae-f93fce97a426"
            },
            "attachments": {}
        },
        {
            "cell_type": "code",
            "source": [
                "-- return number of books that contain the word Happy\n",
                "select count(title) as 'No of books' from books\n",
                "where title like '%Happy%'\n",
                ""
            ],
            "metadata": {
                "azdata_cell_guid": "f55f18b9-91b1-4761-ad8c-4758434d7827",
                "language": "sql"
            },
            "outputs": [
                {
                    "output_type": "display_data",
                    "data": {
                        "text/html": "(1 row affected)"
                    },
                    "metadata": {}
                },
                {
                    "output_type": "display_data",
                    "data": {
                        "text/html": "Total execution time: 00:00:00.069"
                    },
                    "metadata": {}
                },
                {
                    "output_type": "execute_result",
                    "metadata": {},
                    "execution_count": 20,
                    "data": {
                        "application/vnd.dataresource+json": {
                            "schema": {
                                "fields": [
                                    {
                                        "name": "No of books"
                                    }
                                ]
                            },
                            "data": [
                                {
                                    "0": "13"
                                }
                            ]
                        },
                        "text/html": [
                            "<table>",
                            "<tr><th>No of books</th></tr>",
                            "<tr><td>13</td></tr>",
                            "</table>"
                        ]
                    }
                }
            ],
            "execution_count": 20
        },
        {
            "cell_type": "markdown",
            "source": [
                "Question 7: List the books from the top 3 authors from question 1.  If there is more than one author just use the first one. Sort the titles <span style=\"background-color: rgba(127, 127, 127, 0.1); font-family: -apple-system, BlinkMacSystemFont, sans-serif;\">alphabetically by author and then by average_rating, best rated to lowest. Does order matter in sorting?</span>"
            ],
            "metadata": {
                "azdata_cell_guid": "d38270ef-da5a-42b4-802a-506acb8b9e4b"
            },
            "attachments": {}
        },
        {
            "cell_type": "code",
            "source": [
                "-- return all books from the top 3 authors, sort by author and rating\n",
                "select authors, title, average_rating as rating from books\n",
                "where authors in (select top 3 authors from books\n",
                "order by average_rating desc) \n",
                "order by authors desc;\n",
                "\n",
                "select top 5 authors, average_rating from books\n",
                "order by average_rating desc"
            ],
            "metadata": {
                "azdata_cell_guid": "47466fac-5d8d-491d-bd3c-2f8496f55e6b",
                "language": "sql"
            },
            "outputs": [
                {
                    "output_type": "display_data",
                    "data": {
                        "text/html": "(41 rows affected)"
                    },
                    "metadata": {}
                },
                {
                    "output_type": "display_data",
                    "data": {
                        "text/html": "(5 rows affected)"
                    },
                    "metadata": {}
                },
                {
                    "output_type": "display_data",
                    "data": {
                        "text/html": "Total execution time: 00:00:00.076"
                    },
                    "metadata": {}
                },
                {
                    "output_type": "execute_result",
                    "metadata": {},
                    "execution_count": 24,
                    "data": {
                        "application/vnd.dataresource+json": {
                            "schema": {
                                "fields": [
                                    {
                                        "name": "authors"
                                    },
                                    {
                                        "name": "title"
                                    },
                                    {
                                        "name": "rating"
                                    }
                                ]
                            },
                            "data": [
                                {
                                    "0": "J.K. Rowling, Mary GrandPré",
                                    "1": "Harry Potter and the Sorcerer's Stone (Harry Potter, #1)",
                                    "2": "4.44"
                                },
                                {
                                    "0": "J.K. Rowling, Mary GrandPré",
                                    "1": "Harry Potter and the Order of the Phoenix (Harry Potter, #5)",
                                    "2": "4.46"
                                },
                                {
                                    "0": "J.K. Rowling, Mary GrandPré",
                                    "1": "Harry Potter and the Chamber of Secrets (Harry Potter, #2)",
                                    "2": "4.37"
                                },
                                {
                                    "0": "J.K. Rowling, Mary GrandPré",
                                    "1": "Harry Potter and the Goblet of Fire (Harry Potter, #4)",
                                    "2": "4.53"
                                },
                                {
                                    "0": "J.K. Rowling, Mary GrandPré",
                                    "1": "Harry Potter and the Deathly Hallows (Harry Potter, #7)",
                                    "2": "4.61"
                                },
                                {
                                    "0": "J.K. Rowling, Mary GrandPré",
                                    "1": "Harry Potter and the Half-Blood Prince (Harry Potter, #6)",
                                    "2": "4.54"
                                },
                                {
                                    "0": "J.K. Rowling, Mary GrandPré",
                                    "1": "The Harry Potter Collection 1-4 (Harry Potter, #1-4)",
                                    "2": "4.66"
                                },
                                {
                                    "0": "J.K. Rowling, Mary GrandPré",
                                    "1": "Harry Potter Boxed Set, Books 1-5 (Harry Potter, #1-5)",
                                    "2": "4.77"
                                },
                                {
                                    "0": "Brandon Sanderson",
                                    "1": "The Bands of Mourning (Mistborn, #6)",
                                    "2": "4.45"
                                },
                                {
                                    "0": "Brandon Sanderson",
                                    "1": "Secret History (Mistborn, #3.5)",
                                    "2": "4.38"
                                },
                                {
                                    "0": "Brandon Sanderson",
                                    "1": "Alcatraz Versus the Evil Librarians (Alcatraz, #1)",
                                    "2": "3.87"
                                },
                                {
                                    "0": "Brandon Sanderson",
                                    "1": "The Way of Kings, Part 1 (The Stormlight Archive #1.1)",
                                    "2": "4.67"
                                },
                                {
                                    "0": "Brandon Sanderson",
                                    "1": "Legion (Legion, #1)",
                                    "2": "4.13"
                                },
                                {
                                    "0": "Brandon Sanderson",
                                    "1": "Mitosis (The Reckoners, #1.5)",
                                    "2": "3.87"
                                },
                                {
                                    "0": "Brandon Sanderson",
                                    "1": "Firefight (The Reckoners, #2)",
                                    "2": "4.29"
                                },
                                {
                                    "0": "Brandon Sanderson",
                                    "1": "Shadows of Self (Mistborn, #5)",
                                    "2": "4.3"
                                },
                                {
                                    "0": "Brandon Sanderson",
                                    "1": "Mistborn Trilogy Boxed Set (Mistborn, #1-3)",
                                    "2": "4.55"
                                },
                                {
                                    "0": "Brandon Sanderson",
                                    "1": "The Emperor's Soul",
                                    "2": "4.33"
                                },
                                {
                                    "0": "Brandon Sanderson",
                                    "1": "The Rithmatist (The Rithmatist, #1)",
                                    "2": "4.25"
                                },
                                {
                                    "0": "Brandon Sanderson",
                                    "1": "Calamity (The Reckoners, #3)",
                                    "2": "4.2"
                                },
                                {
                                    "0": "Brandon Sanderson",
                                    "1": "Elantris (Elantris, #1)",
                                    "2": "4.17"
                                },
                                {
                                    "0": "Brandon Sanderson",
                                    "1": "The Alloy of Law (Mistborn, #4)",
                                    "2": "4.2"
                                },
                                {
                                    "0": "Brandon Sanderson",
                                    "1": "Warbreaker (Warbreaker, #1)",
                                    "2": "4.22"
                                },
                                {
                                    "0": "Brandon Sanderson",
                                    "1": "The Final Empire (Mistborn, #1)",
                                    "2": "4.43"
                                },
                                {
                                    "0": "Brandon Sanderson",
                                    "1": "The Way of Kings (The Stormlight Archive, #1)",
                                    "2": "4.64"
                                },
                                {
                                    "0": "Brandon Sanderson",
                                    "1": "The Well of Ascension (Mistborn, #2)",
                                    "2": "4.35"
                                },
                                {
                                    "0": "Brandon Sanderson",
                                    "1": "The Hero of Ages (Mistborn, #3)",
                                    "2": "4.46"
                                },
                                {
                                    "0": "Brandon Sanderson",
                                    "1": "Words of Radiance (The Stormlight Archive, #2)",
                                    "2": "4.77"
                                },
                                {
                                    "0": "Brandon Sanderson",
                                    "1": "Steelheart (The Reckoners, #1)",
                                    "2": "4.16"
                                },
                                {
                                    "0": "Bill Watterson",
                                    "1": "The Essential Calvin and Hobbes: A Calvin and Hobbes Treasury",
                                    "2": "4.65"
                                },
                                {
                                    "0": "Bill Watterson",
                                    "1": "The Calvin and Hobbes Tenth Anniversary Book",
                                    "2": "4.63"
                                },
                                {
                                    "0": "Bill Watterson",
                                    "1": "The Days Are Just Packed: A Calvin and Hobbes Collection",
                                    "2": "4.68"
                                },
                                {
                                    "0": "Bill Watterson",
                                    "1": "The Calvin and Hobbes Lazy Sunday Book",
                                    "2": "4.66"
                                },
                                {
                                    "0": "Bill Watterson",
                                    "1": "There's Treasure Everywhere: A Calvin and Hobbes Collection",
                                    "2": "4.74"
                                },
                                {
                                    "0": "Bill Watterson",
                                    "1": "The Authoritative Calvin and Hobbes: A Calvin and Hobbes Treasury",
                                    "2": "4.73"
                                },
                                {
                                    "0": "Bill Watterson",
                                    "1": "The Indispensable Calvin and Hobbes",
                                    "2": "4.73"
                                },
                                {
                                    "0": "Bill Watterson",
                                    "1": "Homicidal Psycho Jungle Cat: A Calvin and Hobbes Collection",
                                    "2": "4.71"
                                },
                                {
                                    "0": "Bill Watterson",
                                    "1": "Attack of the Deranged Mutant Killer Monster Snow Goons",
                                    "2": "4.72"
                                },
                                {
                                    "0": "Bill Watterson",
                                    "1": "The Revenge of the Baby-Sat",
                                    "2": "4.71"
                                },
                                {
                                    "0": "Bill Watterson",
                                    "1": "The Complete Calvin and Hobbes",
                                    "2": "4.82"
                                },
                                {
                                    "0": "Bill Watterson",
                                    "1": "It's a Magical World: A Calvin and Hobbes Collection",
                                    "2": "4.75"
                                }
                            ]
                        },
                        "text/html": [
                            "<table>",
                            "<tr><th>authors</th><th>title</th><th>rating</th></tr>",
                            "<tr><td>J.K. Rowling, Mary GrandPré</td><td>Harry Potter and the Sorcerer's Stone (Harry Potter, #1)</td><td>4.44</td></tr>",
                            "<tr><td>J.K. Rowling, Mary GrandPré</td><td>Harry Potter and the Order of the Phoenix (Harry Potter, #5)</td><td>4.46</td></tr>",
                            "<tr><td>J.K. Rowling, Mary GrandPré</td><td>Harry Potter and the Chamber of Secrets (Harry Potter, #2)</td><td>4.37</td></tr>",
                            "<tr><td>J.K. Rowling, Mary GrandPré</td><td>Harry Potter and the Goblet of Fire (Harry Potter, #4)</td><td>4.53</td></tr>",
                            "<tr><td>J.K. Rowling, Mary GrandPré</td><td>Harry Potter and the Deathly Hallows (Harry Potter, #7)</td><td>4.61</td></tr>",
                            "<tr><td>J.K. Rowling, Mary GrandPré</td><td>Harry Potter and the Half-Blood Prince (Harry Potter, #6)</td><td>4.54</td></tr>",
                            "<tr><td>J.K. Rowling, Mary GrandPré</td><td>The Harry Potter Collection 1-4 (Harry Potter, #1-4)</td><td>4.66</td></tr>",
                            "<tr><td>J.K. Rowling, Mary GrandPré</td><td>Harry Potter Boxed Set, Books 1-5 (Harry Potter, #1-5)</td><td>4.77</td></tr>",
                            "<tr><td>Brandon Sanderson</td><td>The Bands of Mourning (Mistborn, #6)</td><td>4.45</td></tr>",
                            "<tr><td>Brandon Sanderson</td><td>Secret History (Mistborn, #3.5)</td><td>4.38</td></tr>",
                            "<tr><td>Brandon Sanderson</td><td>Alcatraz Versus the Evil Librarians (Alcatraz, #1)</td><td>3.87</td></tr>",
                            "<tr><td>Brandon Sanderson</td><td>The Way of Kings, Part 1 (The Stormlight Archive #1.1)</td><td>4.67</td></tr>",
                            "<tr><td>Brandon Sanderson</td><td>Legion (Legion, #1)</td><td>4.13</td></tr>",
                            "<tr><td>Brandon Sanderson</td><td>Mitosis (The Reckoners, #1.5)</td><td>3.87</td></tr>",
                            "<tr><td>Brandon Sanderson</td><td>Firefight (The Reckoners, #2)</td><td>4.29</td></tr>",
                            "<tr><td>Brandon Sanderson</td><td>Shadows of Self (Mistborn, #5)</td><td>4.3</td></tr>",
                            "<tr><td>Brandon Sanderson</td><td>Mistborn Trilogy Boxed Set (Mistborn, #1-3)</td><td>4.55</td></tr>",
                            "<tr><td>Brandon Sanderson</td><td>The Emperor's Soul</td><td>4.33</td></tr>",
                            "<tr><td>Brandon Sanderson</td><td>The Rithmatist (The Rithmatist, #1)</td><td>4.25</td></tr>",
                            "<tr><td>Brandon Sanderson</td><td>Calamity (The Reckoners, #3)</td><td>4.2</td></tr>",
                            "<tr><td>Brandon Sanderson</td><td>Elantris (Elantris, #1)</td><td>4.17</td></tr>",
                            "<tr><td>Brandon Sanderson</td><td>The Alloy of Law (Mistborn, #4)</td><td>4.2</td></tr>",
                            "<tr><td>Brandon Sanderson</td><td>Warbreaker (Warbreaker, #1)</td><td>4.22</td></tr>",
                            "<tr><td>Brandon Sanderson</td><td>The Final Empire (Mistborn, #1)</td><td>4.43</td></tr>",
                            "<tr><td>Brandon Sanderson</td><td>The Way of Kings (The Stormlight Archive, #1)</td><td>4.64</td></tr>",
                            "<tr><td>Brandon Sanderson</td><td>The Well of Ascension (Mistborn, #2)</td><td>4.35</td></tr>",
                            "<tr><td>Brandon Sanderson</td><td>The Hero of Ages (Mistborn, #3)</td><td>4.46</td></tr>",
                            "<tr><td>Brandon Sanderson</td><td>Words of Radiance (The Stormlight Archive, #2)</td><td>4.77</td></tr>",
                            "<tr><td>Brandon Sanderson</td><td>Steelheart (The Reckoners, #1)</td><td>4.16</td></tr>",
                            "<tr><td>Bill Watterson</td><td>The Essential Calvin and Hobbes: A Calvin and Hobbes Treasury</td><td>4.65</td></tr>",
                            "<tr><td>Bill Watterson</td><td>The Calvin and Hobbes Tenth Anniversary Book</td><td>4.63</td></tr>",
                            "<tr><td>Bill Watterson</td><td>The Days Are Just Packed: A Calvin and Hobbes Collection</td><td>4.68</td></tr>",
                            "<tr><td>Bill Watterson</td><td>The Calvin and Hobbes Lazy Sunday Book</td><td>4.66</td></tr>",
                            "<tr><td>Bill Watterson</td><td>There's Treasure Everywhere: A Calvin and Hobbes Collection</td><td>4.74</td></tr>",
                            "<tr><td>Bill Watterson</td><td>The Authoritative Calvin and Hobbes: A Calvin and Hobbes Treasury</td><td>4.73</td></tr>",
                            "<tr><td>Bill Watterson</td><td>The Indispensable Calvin and Hobbes</td><td>4.73</td></tr>",
                            "<tr><td>Bill Watterson</td><td>Homicidal Psycho Jungle Cat: A Calvin and Hobbes Collection</td><td>4.71</td></tr>",
                            "<tr><td>Bill Watterson</td><td>Attack of the Deranged Mutant Killer Monster Snow Goons</td><td>4.72</td></tr>",
                            "<tr><td>Bill Watterson</td><td>The Revenge of the Baby-Sat</td><td>4.71</td></tr>",
                            "<tr><td>Bill Watterson</td><td>The Complete Calvin and Hobbes</td><td>4.82</td></tr>",
                            "<tr><td>Bill Watterson</td><td>It's a Magical World: A Calvin and Hobbes Collection</td><td>4.75</td></tr>",
                            "</table>"
                        ]
                    }
                },
                {
                    "output_type": "execute_result",
                    "metadata": {},
                    "execution_count": 24,
                    "data": {
                        "application/vnd.dataresource+json": {
                            "schema": {
                                "fields": [
                                    {
                                        "name": "authors"
                                    },
                                    {
                                        "name": "average_rating"
                                    }
                                ]
                            },
                            "data": [
                                {
                                    "0": "Bill Watterson",
                                    "1": "4.82"
                                },
                                {
                                    "0": "Brandon Sanderson",
                                    "1": "4.77"
                                },
                                {
                                    "0": "J.K. Rowling, Mary GrandPré",
                                    "1": "4.77"
                                },
                                {
                                    "0": "Anonymous, Lane T. Dennis, Wayne A. Grudem",
                                    "1": "4.76"
                                },
                                {
                                    "0": "Francine Rivers",
                                    "1": "4.76"
                                }
                            ]
                        },
                        "text/html": [
                            "<table>",
                            "<tr><th>authors</th><th>average_rating</th></tr>",
                            "<tr><td>Bill Watterson</td><td>4.82</td></tr>",
                            "<tr><td>Brandon Sanderson</td><td>4.77</td></tr>",
                            "<tr><td>J.K. Rowling, Mary GrandPré</td><td>4.77</td></tr>",
                            "<tr><td>Anonymous, Lane T. Dennis, Wayne A. Grudem</td><td>4.76</td></tr>",
                            "<tr><td>Francine Rivers</td><td>4.76</td></tr>",
                            "</table>"
                        ]
                    }
                }
            ],
            "execution_count": 24
        },
        {
            "cell_type": "markdown",
            "source": [
                "Question 8: Take a close look at J.K. Rowling.  Is her top rated book on this list from question 1?  Why might this be? How could we account for this?\n",
                "\n",
                "> Click here to add your answer."
            ],
            "metadata": {
                "azdata_cell_guid": "db907c70-0bbd-4121-ac91-ae814f703243"
            },
            "attachments": {}
        },
        {
            "cell_type": "markdown",
            "source": [
                "It's not present because she co=wrote a book with another author"
            ],
            "metadata": {
                "azdata_cell_guid": "f69af5eb-8c62-445c-ada1-fed86eea9b52"
            },
            "attachments": {}
        },
        {
            "cell_type": "code",
            "source": [
                "select authors, title, average_rating as rating from books\r\n",
                "where authors = 'Bill Watterson' or authors like '%J.K. Rowlings' or authors = 'Brandon Sanderson'\r\n",
                "order by authors desc, rating desc;"
            ],
            "metadata": {
                "azdata_cell_guid": "f0a0896d-a779-4145-be72-907194b73e4d",
                "language": "sql"
            },
            "outputs": [
                {
                    "output_type": "display_data",
                    "data": {
                        "text/html": "(33 rows affected)"
                    },
                    "metadata": {}
                },
                {
                    "output_type": "display_data",
                    "data": {
                        "text/html": "Total execution time: 00:00:00.063"
                    },
                    "metadata": {}
                },
                {
                    "output_type": "execute_result",
                    "metadata": {},
                    "execution_count": 25,
                    "data": {
                        "application/vnd.dataresource+json": {
                            "schema": {
                                "fields": [
                                    {
                                        "name": "authors"
                                    },
                                    {
                                        "name": "title"
                                    },
                                    {
                                        "name": "rating"
                                    }
                                ]
                            },
                            "data": [
                                {
                                    "0": "Brandon Sanderson",
                                    "1": "Words of Radiance (The Stormlight Archive, #2)",
                                    "2": "4.77"
                                },
                                {
                                    "0": "Brandon Sanderson",
                                    "1": "The Way of Kings, Part 1 (The Stormlight Archive #1.1)",
                                    "2": "4.67"
                                },
                                {
                                    "0": "Brandon Sanderson",
                                    "1": "The Way of Kings (The Stormlight Archive, #1)",
                                    "2": "4.64"
                                },
                                {
                                    "0": "Brandon Sanderson",
                                    "1": "Mistborn Trilogy Boxed Set (Mistborn, #1-3)",
                                    "2": "4.55"
                                },
                                {
                                    "0": "Brandon Sanderson",
                                    "1": "The Hero of Ages (Mistborn, #3)",
                                    "2": "4.46"
                                },
                                {
                                    "0": "Brandon Sanderson",
                                    "1": "The Bands of Mourning (Mistborn, #6)",
                                    "2": "4.45"
                                },
                                {
                                    "0": "Brandon Sanderson",
                                    "1": "The Final Empire (Mistborn, #1)",
                                    "2": "4.43"
                                },
                                {
                                    "0": "Brandon Sanderson",
                                    "1": "Secret History (Mistborn, #3.5)",
                                    "2": "4.38"
                                },
                                {
                                    "0": "Brandon Sanderson",
                                    "1": "The Well of Ascension (Mistborn, #2)",
                                    "2": "4.35"
                                },
                                {
                                    "0": "Brandon Sanderson",
                                    "1": "The Emperor's Soul",
                                    "2": "4.33"
                                },
                                {
                                    "0": "Brandon Sanderson",
                                    "1": "Shadows of Self (Mistborn, #5)",
                                    "2": "4.3"
                                },
                                {
                                    "0": "Brandon Sanderson",
                                    "1": "Firefight (The Reckoners, #2)",
                                    "2": "4.29"
                                },
                                {
                                    "0": "Brandon Sanderson",
                                    "1": "The Rithmatist (The Rithmatist, #1)",
                                    "2": "4.25"
                                },
                                {
                                    "0": "Brandon Sanderson",
                                    "1": "Warbreaker (Warbreaker, #1)",
                                    "2": "4.22"
                                },
                                {
                                    "0": "Brandon Sanderson",
                                    "1": "Calamity (The Reckoners, #3)",
                                    "2": "4.2"
                                },
                                {
                                    "0": "Brandon Sanderson",
                                    "1": "The Alloy of Law (Mistborn, #4)",
                                    "2": "4.2"
                                },
                                {
                                    "0": "Brandon Sanderson",
                                    "1": "Elantris (Elantris, #1)",
                                    "2": "4.17"
                                },
                                {
                                    "0": "Brandon Sanderson",
                                    "1": "Steelheart (The Reckoners, #1)",
                                    "2": "4.16"
                                },
                                {
                                    "0": "Brandon Sanderson",
                                    "1": "Legion (Legion, #1)",
                                    "2": "4.13"
                                },
                                {
                                    "0": "Brandon Sanderson",
                                    "1": "Mitosis (The Reckoners, #1.5)",
                                    "2": "3.87"
                                },
                                {
                                    "0": "Brandon Sanderson",
                                    "1": "Alcatraz Versus the Evil Librarians (Alcatraz, #1)",
                                    "2": "3.87"
                                },
                                {
                                    "0": "Bill Watterson",
                                    "1": "The Complete Calvin and Hobbes",
                                    "2": "4.82"
                                },
                                {
                                    "0": "Bill Watterson",
                                    "1": "It's a Magical World: A Calvin and Hobbes Collection",
                                    "2": "4.75"
                                },
                                {
                                    "0": "Bill Watterson",
                                    "1": "There's Treasure Everywhere: A Calvin and Hobbes Collection",
                                    "2": "4.74"
                                },
                                {
                                    "0": "Bill Watterson",
                                    "1": "The Authoritative Calvin and Hobbes: A Calvin and Hobbes Treasury",
                                    "2": "4.73"
                                },
                                {
                                    "0": "Bill Watterson",
                                    "1": "The Indispensable Calvin and Hobbes",
                                    "2": "4.73"
                                },
                                {
                                    "0": "Bill Watterson",
                                    "1": "Attack of the Deranged Mutant Killer Monster Snow Goons",
                                    "2": "4.72"
                                },
                                {
                                    "0": "Bill Watterson",
                                    "1": "The Revenge of the Baby-Sat",
                                    "2": "4.71"
                                },
                                {
                                    "0": "Bill Watterson",
                                    "1": "Homicidal Psycho Jungle Cat: A Calvin and Hobbes Collection",
                                    "2": "4.71"
                                },
                                {
                                    "0": "Bill Watterson",
                                    "1": "The Days Are Just Packed: A Calvin and Hobbes Collection",
                                    "2": "4.68"
                                },
                                {
                                    "0": "Bill Watterson",
                                    "1": "The Calvin and Hobbes Lazy Sunday Book",
                                    "2": "4.66"
                                },
                                {
                                    "0": "Bill Watterson",
                                    "1": "The Essential Calvin and Hobbes: A Calvin and Hobbes Treasury",
                                    "2": "4.65"
                                },
                                {
                                    "0": "Bill Watterson",
                                    "1": "The Calvin and Hobbes Tenth Anniversary Book",
                                    "2": "4.63"
                                }
                            ]
                        },
                        "text/html": [
                            "<table>",
                            "<tr><th>authors</th><th>title</th><th>rating</th></tr>",
                            "<tr><td>Brandon Sanderson</td><td>Words of Radiance (The Stormlight Archive, #2)</td><td>4.77</td></tr>",
                            "<tr><td>Brandon Sanderson</td><td>The Way of Kings, Part 1 (The Stormlight Archive #1.1)</td><td>4.67</td></tr>",
                            "<tr><td>Brandon Sanderson</td><td>The Way of Kings (The Stormlight Archive, #1)</td><td>4.64</td></tr>",
                            "<tr><td>Brandon Sanderson</td><td>Mistborn Trilogy Boxed Set (Mistborn, #1-3)</td><td>4.55</td></tr>",
                            "<tr><td>Brandon Sanderson</td><td>The Hero of Ages (Mistborn, #3)</td><td>4.46</td></tr>",
                            "<tr><td>Brandon Sanderson</td><td>The Bands of Mourning (Mistborn, #6)</td><td>4.45</td></tr>",
                            "<tr><td>Brandon Sanderson</td><td>The Final Empire (Mistborn, #1)</td><td>4.43</td></tr>",
                            "<tr><td>Brandon Sanderson</td><td>Secret History (Mistborn, #3.5)</td><td>4.38</td></tr>",
                            "<tr><td>Brandon Sanderson</td><td>The Well of Ascension (Mistborn, #2)</td><td>4.35</td></tr>",
                            "<tr><td>Brandon Sanderson</td><td>The Emperor's Soul</td><td>4.33</td></tr>",
                            "<tr><td>Brandon Sanderson</td><td>Shadows of Self (Mistborn, #5)</td><td>4.3</td></tr>",
                            "<tr><td>Brandon Sanderson</td><td>Firefight (The Reckoners, #2)</td><td>4.29</td></tr>",
                            "<tr><td>Brandon Sanderson</td><td>The Rithmatist (The Rithmatist, #1)</td><td>4.25</td></tr>",
                            "<tr><td>Brandon Sanderson</td><td>Warbreaker (Warbreaker, #1)</td><td>4.22</td></tr>",
                            "<tr><td>Brandon Sanderson</td><td>Calamity (The Reckoners, #3)</td><td>4.2</td></tr>",
                            "<tr><td>Brandon Sanderson</td><td>The Alloy of Law (Mistborn, #4)</td><td>4.2</td></tr>",
                            "<tr><td>Brandon Sanderson</td><td>Elantris (Elantris, #1)</td><td>4.17</td></tr>",
                            "<tr><td>Brandon Sanderson</td><td>Steelheart (The Reckoners, #1)</td><td>4.16</td></tr>",
                            "<tr><td>Brandon Sanderson</td><td>Legion (Legion, #1)</td><td>4.13</td></tr>",
                            "<tr><td>Brandon Sanderson</td><td>Mitosis (The Reckoners, #1.5)</td><td>3.87</td></tr>",
                            "<tr><td>Brandon Sanderson</td><td>Alcatraz Versus the Evil Librarians (Alcatraz, #1)</td><td>3.87</td></tr>",
                            "<tr><td>Bill Watterson</td><td>The Complete Calvin and Hobbes</td><td>4.82</td></tr>",
                            "<tr><td>Bill Watterson</td><td>It's a Magical World: A Calvin and Hobbes Collection</td><td>4.75</td></tr>",
                            "<tr><td>Bill Watterson</td><td>There's Treasure Everywhere: A Calvin and Hobbes Collection</td><td>4.74</td></tr>",
                            "<tr><td>Bill Watterson</td><td>The Authoritative Calvin and Hobbes: A Calvin and Hobbes Treasury</td><td>4.73</td></tr>",
                            "<tr><td>Bill Watterson</td><td>The Indispensable Calvin and Hobbes</td><td>4.73</td></tr>",
                            "<tr><td>Bill Watterson</td><td>Attack of the Deranged Mutant Killer Monster Snow Goons</td><td>4.72</td></tr>",
                            "<tr><td>Bill Watterson</td><td>The Revenge of the Baby-Sat</td><td>4.71</td></tr>",
                            "<tr><td>Bill Watterson</td><td>Homicidal Psycho Jungle Cat: A Calvin and Hobbes Collection</td><td>4.71</td></tr>",
                            "<tr><td>Bill Watterson</td><td>The Days Are Just Packed: A Calvin and Hobbes Collection</td><td>4.68</td></tr>",
                            "<tr><td>Bill Watterson</td><td>The Calvin and Hobbes Lazy Sunday Book</td><td>4.66</td></tr>",
                            "<tr><td>Bill Watterson</td><td>The Essential Calvin and Hobbes: A Calvin and Hobbes Treasury</td><td>4.65</td></tr>",
                            "<tr><td>Bill Watterson</td><td>The Calvin and Hobbes Tenth Anniversary Book</td><td>4.63</td></tr>",
                            "</table>"
                        ]
                    }
                }
            ],
            "execution_count": 25
        },
        {
            "cell_type": "markdown",
            "source": [
                "Try updating your above query to include all of J.K. Rowling's books.\n",
                "\n",
                "Are there any other issues?\n",
                "\n",
                "> Click here to add your answer."
            ],
            "metadata": {
                "azdata_cell_guid": "35ee4a48-8e84-4eb5-95ca-f5cdddc8d682"
            },
            "attachments": {}
        },
        {
            "cell_type": "code",
            "source": [
                "-- Try updating your above query to include all of J.K. Rowling's books\n",
                ""
            ],
            "metadata": {
                "azdata_cell_guid": "ce489012-fce9-435c-b570-7734223a0678",
                "tags": [],
                "language": "sql"
            },
            "outputs": [],
            "execution_count": null
        },
        {
            "cell_type": "markdown",
            "source": [
                "Question 9: Write a query that returns the number of Authors whose first name is between rock and roll."
            ],
            "metadata": {
                "azdata_cell_guid": "75bf5054-4918-4e9e-8e03-24a38ffab9cc"
            },
            "attachments": {}
        },
        {
            "cell_type": "code",
            "source": [
                "-- return number of authors whose first name is between rock and roll\n",
                "select distinct(authors) as 'Rock n Roll Writters' from books\n",
                "where authors between 'rock' and 'roll';\n",
                ""
            ],
            "metadata": {
                "azdata_cell_guid": "491b2492-95d4-4078-b319-386b0c5592ec",
                "language": "sql"
            },
            "outputs": [],
            "execution_count": null
        },
        {
            "cell_type": "markdown",
            "source": [
                "## Part 2. Write your own question and write a query to answer it.\n",
                "\n",
                "Your Question:  Click here to add"
            ],
            "metadata": {
                "azdata_cell_guid": "1ba1363a-4f02-4962-a95a-93b80c5926b1"
            },
            "attachments": {}
        },
        {
            "cell_type": "code",
            "source": [
                "-- Add your querry here\n"
            ],
            "metadata": {
                "azdata_cell_guid": "607f1a61-b306-42bf-a20c-60ec3a6ba86a",
                "language": "sql"
            },
            "outputs": [],
            "execution_count": null
        },
        {
            "cell_type": "markdown",
            "source": [
                "Your Question: Click here to add"
            ],
            "metadata": {
                "azdata_cell_guid": "9386ad04-a016-44d4-8c5c-d25a102d47b4"
            }
        },
        {
            "cell_type": "code",
            "source": [
                "-- Add your querry here\n"
            ],
            "metadata": {
                "azdata_cell_guid": "15f249cf-aad7-468d-92e1-429b2a09f285",
                "language": "sql"
            },
            "outputs": [],
            "execution_count": null
        },
        {
            "cell_type": "markdown",
            "source": [
                "**Some Question Examples:**\n",
                "\n",
                "Write a query that returns the longest title?\n",
                "\n",
                "Which Author has written the most books?  \n",
                "\n",
                "Top  ten books written the year I was born?"
            ],
            "metadata": {
                "azdata_cell_guid": "7160362b-7127-4123-bd1d-95a94ae38a07"
            }
        }
    ]
}